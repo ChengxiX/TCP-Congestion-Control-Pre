{
 "cells": [
  {
   "cell_type": "markdown",
   "metadata": {},
   "source": [
    "## BBR v2.0\n",
    "Startup阶段面对丢包的操作：直接进入Drain\n",
    "公平性：与Reno和Cubic等等共存的时候，减少ProbeBW阶段的侵略性\n",
    "侵略性体现在探测带宽时过度发包导致缓存积压\n",
    "改进：指数增长先慢后快地探测带宽\n",
    "\n",
    "总的来说，是让模型更加综合"
   ]
  },
  {
   "cell_type": "markdown",
   "metadata": {},
   "source": [
    "## 更复杂的模型\n",
    "从单一指标到复合指标，诊断网络中出现的问题。\n",
    " | | 时延\t| 时延方差 |\t带宽 |\t带宽方差 |\t其它... |\n",
    "| --- | --- | --- | --- | --- | --- |\n",
    "|稳定拥塞 |\t大\t | 小 |\tN/A |\tN/A\t| |\n",
    "| 突发拥塞\t| 大 |\t大 |\tN/A |\tN/A\t |\n",
    "| 随机丢包(高)\t| 小 |\t小\t| 小 |\t大\t |\n",
    "| 随机丢包(低)\t| 小 |\t小\t| 大 |\t小\t |\n",
    "| 没有问题 | | | | |\n",
    "\n",
    "![图1](https://pic4.zhimg.com/v2-066af4e63ea78688d1ea7901fa9e66cd_1440w.jpg \"摘自\")\n",
    "\n",
    "![续](https://picx.zhimg.com/v2-1eba656596c93dbd866aa59d244c5fd5_1440w.jpg)\n"
   ]
  },
  {
   "cell_type": "markdown",
   "metadata": {},
   "source": []
  }
 ],
 "metadata": {
  "language_info": {
   "name": "python"
  }
 },
 "nbformat": 4,
 "nbformat_minor": 2
}
